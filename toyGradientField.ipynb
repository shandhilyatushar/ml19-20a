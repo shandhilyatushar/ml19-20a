{
 "cells": [
  {
   "cell_type": "code",
   "execution_count": 51,
   "metadata": {},
   "outputs": [
    {
     "name": "stdout",
     "output_type": "stream",
     "text": [
      "[[1.0 2.0 2.0 2.0 2.0 2.0 2.0 2.0 2.0 2.0 1.0]\n",
      " [1.0 3.0 3.0 3.0 3.0 3.0 3.0 3.0 3.0 3.0 1.0]\n",
      " [1.0 2.0 2.0 2.0 3.0 4.0 3.0 3.0 2.0 1.0 1.0]\n",
      " [1.0 1.0 1.0 1.0 3.0 3.0 3.0 1.0 1.0 1.0 1.0]\n",
      " [1.0 1.0 0.0 1.0 1.0 2.0 1.0 1.0 0.0 1.0 1.0]\n",
      " [1.0 1.0 1.0 1.0 3.0 3.0 3.0 1.0 1.0 1.0 1.0]\n",
      " [1.0 1.0 2.0 3.0 3.0 4.0 3.0 2.0 2.0 2.0 1.0]\n",
      " [1.0 3.0 3.0 3.0 3.0 3.0 3.0 3.0 3.0 3.0 1.0]\n",
      " [1.0 2.0 2.0 2.0 2.0 2.0 2.0 2.0 2.0 2.0 1.0]]\n",
      "\n",
      "(1.0,0.0)  (0.0,0.0)  (0.0,0.0)  (0.0,-0.5)  (0.0,-1.0)  (0.0,-0.5)  (0.0,-0.5)  (0.0,0.0)  (-1.0,0.5)  \n",
      "(0.5,1.0)  (0.0,1.0)  (0.5,1.0)  (1.0,0.0)  (0.0,0.0)  (-0.5,0.0)  (-0.5,1.0)  (-1.0,1.0)  (-0.5,1.0)  \n",
      "(0.0,0.5)  (0.0,1.0)  (1.0,0.5)  (1.0,1.0)  (0.0,1.0)  (-1.0,1.0)  (-1.0,1.0)  (0.0,1.0)  (0.0,0.0)  \n",
      "(-0.5,0.0)  (0.0,0.0)  (0.5,0.0)  (0.5,0.0)  (0.0,0.0)  (-0.5,0.0)  (-0.5,0.0)  (0.0,0.0)  (0.5,0.0)  \n",
      "(0.0,0.0)  (0.0,-1.0)  (1.0,-1.0)  (1.0,-1.0)  (0.0,-1.0)  (-1.0,-1.0)  (-1.0,-0.5)  (0.0,-1.0)  (0.0,-0.5)  \n",
      "(0.5,-1.0)  (1.0,-1.0)  (0.5,-1.0)  (0.5,0.0)  (0.0,0.0)  (-1.0,0.0)  (-0.5,-1.0)  (0.0,-1.0)  (-0.5,-1.0)  \n",
      "(1.0,-0.5)  (0.0,0.0)  (0.0,0.5)  (0.0,0.5)  (0.0,1.0)  (0.0,0.5)  (0.0,0.0)  (0.0,0.0)  (-1.0,0.0)  \n",
      "\n",
      "(0.0,0.125,0.0)  (1.0,-0.25,0.0)  (0.0,-0.375,0.0)  (-2.0,-0.25,-2.0)  (1.0,0.5,0.0)  (-1.0,0.625,-2.0)  (0.0,0.375,0.0)  \n",
      "(0.0,0.125,0.0)  (2.0,0.25,1.0)  (-2.0,0.125,-2.0)  (0.0,0.0,0.0)  (-2.0,0.25,-2.0)  (2.0,0.5,2.0)  (0.0,0.0,0.0)  \n",
      "(2.0,0.125,2.0)  (-1.0,0.0,0.0)  (1.0,-0.125,4.0)  (-2.0,-0.125,2.0)  (1.0,0.0,4.0)  (-1.0,0.125,0.0)  (2.0,0.125,2.0)  \n",
      "(0.0,-0.5,0.0)  (2.0,-0.25,2.0)  (-2.0,-0.5,-2.0)  (0.0,-0.5,0.0)  (-2.0,0.0,-2.0)  (2.0,0.0,1.0)  (0.0,0.125,0.0)  \n",
      "(0.0,-0.375,0.0)  (-1.0,0.0,-2.0)  (1.0,0.125,0.0)  (-2.0,-0.125,-2.0)  (0.0,-0.5,0.0)  (1.0,-0.25,0.0)  (0.0,-0.125,0.0)  \n"
     ]
    }
   ],
   "source": [
    "import numpy as np\n",
    "\n",
    "# Need to pad the matrix enough so that we are able to calculate higher derivatives\n",
    "# The first and last rows are dummy rows for padding\n",
    "# The first and last columns are also dummy columns for padding\n",
    "A = np.array([\n",
    "    [1, 2, 2, 2, 2, 2, 2, 2, 2, 2, 1],\n",
    "    [1, 3, 3, 3, 3, 3, 3, 3, 3, 3, 1],\n",
    "    [1, 2, 2, 2, 3, 4, 3, 3, 2, 1, 1],\n",
    "    [1, 1, 1, 1, 3, 3, 3, 1, 1, 1, 1],\n",
    "    [1, 1, 0, 1, 1, 2, 1, 1, 0, 1, 1],\n",
    "    [1, 1, 1, 1, 3, 3, 3, 1, 1, 1, 1],\n",
    "    [1, 1, 2, 3, 3, 4, 3, 2, 2, 2, 1],\n",
    "    [1, 3, 3, 3, 3, 3, 3, 3, 3, 3, 1],\n",
    "    [1, 2, 2, 2, 2, 2, 2, 2, 2, 2, 1],\n",
    "])\n",
    "\n",
    "dfdx = np.zeros( (7, 9) )\n",
    "dfdy = np.zeros( (7, 9) )\n",
    "\n",
    "d2fdx2 = np.zeros( (5, 7) )\n",
    "d2fdxdy = np.zeros( (5, 7) )\n",
    "d2fdy2 = np.zeros( (5, 7) )\n",
    "\n",
    "for i in range( 1, 8 ):\n",
    "    for j in range( 1, 10 ):\n",
    "        dfdx[i-1, j-1] = (A[i, j+1] - A[i, j-1])/2\n",
    "        # Need a negative sign before dfdy since array indices increase when going down\n",
    "        # whereas y coordinates should decrease when going down\n",
    "        dfdy[i-1, j-1] = -(A[i+1, j] - A[i-1, j])/2\n",
    "\n",
    "# Second pure derivatives are easier to calculate\n",
    "for i in range( 2, 7 ):\n",
    "    for j in range( 2, 9 ):\n",
    "        d2fdx2[i-2, j-2] = A[i, j+1] + A[i, j-1] - 2 * A[i,j]\n",
    "        d2fdy2[i-2, j-2] = A[i+1, j] + A[i-1, j] - 2 * A[i,j]\n",
    "\n",
    "# Second mixed derivatives need more care\n",
    "for i in range( 1, 6 ):\n",
    "    for j in range( 1, 8 ):\n",
    "        tmpxy = -(dfdx[i+1, j] - dfdx[i-1, j])/2\n",
    "        tmpyx = (dfdy[i, j+1] - dfdx[i, j-1])/2\n",
    "        # Since our field is not continuous, Clairaut's theorem does not apply here\n",
    "        # So we approximate by taking the averages to get a symmetric Hessian matrix\n",
    "        d2fdxdy[i-1, j-1] = (tmpxy + tmpyx)/2\n",
    "        \n",
    "np.set_printoptions(formatter={'float': lambda x: \"{0:0.1f}\".format(x)})\n",
    "print( A.astype(float) )\n",
    "print()\n",
    "for i in range( dfdx.shape[0] ):\n",
    "    for j in range( dfdx.shape[1] ):\n",
    "        print(\"(\" + str(dfdx[i, j]) + \",\" + str(dfdy[i, j]) + \")  \", end = \"\")\n",
    "    print()\n",
    "print()\n",
    "for i in range( d2fdx2.shape[0] ):\n",
    "    for j in range( d2fdx2.shape[1] ):\n",
    "        print(\"(\" + str(d2fdx2[i, j]) + \",\" + str(d2fdxdy[i, j]) + \",\" + str(d2fdy2[i, j]) + \")  \", end = \"\")\n",
    "    print()"
   ]
  },
  {
   "cell_type": "code",
   "execution_count": null,
   "metadata": {},
   "outputs": [],
   "source": []
  }
 ],
 "metadata": {
  "kernelspec": {
   "display_name": "Python 3",
   "language": "python",
   "name": "python3"
  },
  "language_info": {
   "codemirror_mode": {
    "name": "ipython",
    "version": 3
   },
   "file_extension": ".py",
   "mimetype": "text/x-python",
   "name": "python",
   "nbconvert_exporter": "python",
   "pygments_lexer": "ipython3",
   "version": "3.7.2"
  }
 },
 "nbformat": 4,
 "nbformat_minor": 2
}
